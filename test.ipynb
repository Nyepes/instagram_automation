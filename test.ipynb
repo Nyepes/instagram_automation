{
 "cells": [
  {
   "cell_type": "code",
   "execution_count": 1,
   "metadata": {},
   "outputs": [],
   "source": [
    "import requests"
   ]
  },
  {
   "cell_type": "code",
   "execution_count": 5,
   "metadata": {},
   "outputs": [],
   "source": [
    "response = requests.get('https://api.api-ninjas.com/v1/quotes?category=happiness', headers={'X-Api-Key': 'le61L2KX/pzUHofOxSF+dg==b5XPAJVIrFDwYN8p'})"
   ]
  },
  {
   "cell_type": "code",
   "execution_count": 6,
   "metadata": {},
   "outputs": [
    {
     "data": {
      "text/plain": [
       "'[{\"quote\": \"Happiness is like those palaces in fairy tales whose gates are guarded by dragons: we must fight in order to conquer it.\", \"author\": \"Alexandre Dumas\", \"category\": \"happiness\"}]'"
      ]
     },
     "execution_count": 6,
     "metadata": {},
     "output_type": "execute_result"
    }
   ],
   "source": [
    "categories = [\n",
    "    'Anxiety'\n",
    "    \n",
    "]"
   ]
  },
  {
   "cell_type": "code",
   "execution_count": null,
   "metadata": {},
   "outputs": [],
   "source": []
  },
  {
   "cell_type": "code",
   "execution_count": 1,
   "metadata": {},
   "outputs": [
    {
     "name": "stdout",
     "output_type": "stream",
     "text": [
      "Brian Tracy\n",
      "John Lennon\n",
      "Henry Ford\n",
      "John Wooden\n",
      "Joyce Meyer\n",
      "Og Mandino\n",
      "Alfred Adler\n",
      "Barack Obama\n",
      "Toni Morrison\n",
      "Anita Krizzan\n",
      "Epictetus\n",
      "Benjamin Mays\n",
      "D. H. Lawrence\n",
      "Jim Rohn\n",
      "Mother Teresa\n",
      "Benjamin Franklin\n",
      "Dan Millman\n",
      "Norman Vaughan\n",
      "Steve Harvey\n",
      "John Wooden\n",
      "Bodhidharma\n",
      "Deepak Chopra\n",
      "Og Mandino\n",
      "Oprah Winfrey\n",
      "Samuel Beckett\n",
      "Epictetus\n",
      "Brian Tracy\n",
      "Norman Vincent Peale\n",
      "Ming-Dao Deng\n",
      "Paulo Coelho\n",
      "Brian Tracy\n",
      "Dan Millman\n",
      "Niccolo Machiavelli\n",
      "Heraclitus\n",
      "Seneca\n",
      "Norman Vincent Peale\n",
      "Steve Harvey\n",
      "J.R.R. Tolkien\n",
      "St. Jerome\n",
      "Seneca\n",
      "Winston Churchill\n",
      "Orison Swett Marden\n",
      "Buddha\n",
      "Barack Obama\n",
      "Colin Powell\n",
      "Bob Proctor\n",
      "Roy T. Bennett\n",
      "Sun Tzu\n",
      "Norman Vincent Peale\n",
      "Zen Proverb\n",
      "10000\n",
      "20\n",
      "12.2\n"
     ]
    }
   ],
   "source": [
    "import requests\n",
    "res = requests.get('https://zenquotes.io/api/quotes/keyword=success')\n",
    "i = 1\n",
    "m = 10000\n",
    "maximum = 0\n",
    "sum_values = 0\n",
    "for quote in res.json():\n",
    "    q = quote['a']\n",
    "    print(q)\n",
    "    length = len(q)\n",
    "    #m = min(m, length)\n",
    "    maximum = max(maximum, len(q))\n",
    "    sum_values += len(q)\n",
    "    i += 1\n",
    "print(m)\n",
    "print(maximum)\n",
    "print(sum_values/(i-1))"
   ]
  },
  {
   "cell_type": "code",
   "execution_count": 16,
   "metadata": {},
   "outputs": [
    {
     "data": {
      "text/plain": [
       "115"
      ]
     },
     "execution_count": 16,
     "metadata": {},
     "output_type": "execute_result"
    }
   ],
   "source": [
    "len(\"We never know how high we are till we are called to rise. Then if we are true to form our statures touch the skies.\")"
   ]
  }
 ],
 "metadata": {
  "kernelspec": {
   "display_name": "Python 3",
   "language": "python",
   "name": "python3"
  },
  "language_info": {
   "codemirror_mode": {
    "name": "ipython",
    "version": 3
   },
   "file_extension": ".py",
   "mimetype": "text/x-python",
   "name": "python",
   "nbconvert_exporter": "python",
   "pygments_lexer": "ipython3",
   "version": "3.8.10"
  },
  "orig_nbformat": 4,
  "vscode": {
   "interpreter": {
    "hash": "916dbcbb3f70747c44a77c7bcd40155683ae19c65e1c03b4aa3499c5328201f1"
   }
  }
 },
 "nbformat": 4,
 "nbformat_minor": 2
}
